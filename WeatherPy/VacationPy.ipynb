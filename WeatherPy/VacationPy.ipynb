{
 "cells": [
  {
   "cell_type": "markdown",
   "metadata": {},
   "source": [
    "# VacationPy\n",
    "----\n",
    "\n",
    "#### Note\n",
    "* Instructions have been included for each segment. You do not have to follow them exactly, but they are included to help you think through the steps."
   ]
  },
  {
   "cell_type": "code",
   "execution_count": 162,
   "metadata": {},
   "outputs": [],
   "source": [
    "# Dependencies and Setup\n",
    "import matplotlib.pyplot as plt\n",
    "import pandas as pd\n",
    "import numpy as np\n",
    "import requests\n",
    "import gmaps\n",
    "import os\n",
    "\n",
    "# Import API key\n",
    "from api_keys import g_key\n"
   ]
  },
  {
   "cell_type": "code",
   "execution_count": 163,
   "metadata": {},
   "outputs": [
    {
     "data": {
      "text/plain": [
       "'/Users/huiyingzheng/Desktop/GT Databootcamp/python-api-challenge/WeatherPy'"
      ]
     },
     "execution_count": 163,
     "metadata": {},
     "output_type": "execute_result"
    }
   ],
   "source": [
    "os.getcwd()"
   ]
  },
  {
   "cell_type": "markdown",
   "metadata": {},
   "source": [
    "### Store Part I results into DataFrame\n",
    "* Load the csv exported in Part I to a DataFrame"
   ]
  },
  {
   "cell_type": "code",
   "execution_count": 164,
   "metadata": {},
   "outputs": [
    {
     "data": {
      "text/html": [
       "<div>\n",
       "<style scoped>\n",
       "    .dataframe tbody tr th:only-of-type {\n",
       "        vertical-align: middle;\n",
       "    }\n",
       "\n",
       "    .dataframe tbody tr th {\n",
       "        vertical-align: top;\n",
       "    }\n",
       "\n",
       "    .dataframe thead th {\n",
       "        text-align: right;\n",
       "    }\n",
       "</style>\n",
       "<table border=\"1\" class=\"dataframe\">\n",
       "  <thead>\n",
       "    <tr style=\"text-align: right;\">\n",
       "      <th></th>\n",
       "      <th>City</th>\n",
       "      <th>Cloudiness</th>\n",
       "      <th>Country</th>\n",
       "      <th>Date</th>\n",
       "      <th>Humidity</th>\n",
       "      <th>Lat</th>\n",
       "      <th>Lng</th>\n",
       "      <th>Max Temp</th>\n",
       "      <th>Wind Speed</th>\n",
       "    </tr>\n",
       "  </thead>\n",
       "  <tbody>\n",
       "    <tr>\n",
       "      <th>0</th>\n",
       "      <td>Byron Bay</td>\n",
       "      <td>75</td>\n",
       "      <td>AU</td>\n",
       "      <td>1587265703</td>\n",
       "      <td>65</td>\n",
       "      <td>-28.65</td>\n",
       "      <td>153.62</td>\n",
       "      <td>298.15</td>\n",
       "      <td>3.10</td>\n",
       "    </tr>\n",
       "    <tr>\n",
       "      <th>1</th>\n",
       "      <td>Albany</td>\n",
       "      <td>1</td>\n",
       "      <td>US</td>\n",
       "      <td>1587265932</td>\n",
       "      <td>44</td>\n",
       "      <td>42.60</td>\n",
       "      <td>-73.97</td>\n",
       "      <td>277.59</td>\n",
       "      <td>0.45</td>\n",
       "    </tr>\n",
       "    <tr>\n",
       "      <th>2</th>\n",
       "      <td>Snåase</td>\n",
       "      <td>99</td>\n",
       "      <td>NO</td>\n",
       "      <td>1587265997</td>\n",
       "      <td>85</td>\n",
       "      <td>64.25</td>\n",
       "      <td>12.38</td>\n",
       "      <td>276.19</td>\n",
       "      <td>1.49</td>\n",
       "    </tr>\n",
       "    <tr>\n",
       "      <th>3</th>\n",
       "      <td>Thompson</td>\n",
       "      <td>5</td>\n",
       "      <td>CA</td>\n",
       "      <td>1587265933</td>\n",
       "      <td>40</td>\n",
       "      <td>55.74</td>\n",
       "      <td>-97.86</td>\n",
       "      <td>263.15</td>\n",
       "      <td>3.10</td>\n",
       "    </tr>\n",
       "    <tr>\n",
       "      <th>4</th>\n",
       "      <td>Bandarbeyla</td>\n",
       "      <td>73</td>\n",
       "      <td>SO</td>\n",
       "      <td>1587266208</td>\n",
       "      <td>69</td>\n",
       "      <td>9.49</td>\n",
       "      <td>50.81</td>\n",
       "      <td>300.31</td>\n",
       "      <td>2.68</td>\n",
       "    </tr>\n",
       "  </tbody>\n",
       "</table>\n",
       "</div>"
      ],
      "text/plain": [
       "          City  Cloudiness Country        Date  Humidity    Lat     Lng  \\\n",
       "0    Byron Bay          75      AU  1587265703        65 -28.65  153.62   \n",
       "1       Albany           1      US  1587265932        44  42.60  -73.97   \n",
       "2       Snåase          99      NO  1587265997        85  64.25   12.38   \n",
       "3     Thompson           5      CA  1587265933        40  55.74  -97.86   \n",
       "4  Bandarbeyla          73      SO  1587266208        69   9.49   50.81   \n",
       "\n",
       "   Max Temp  Wind Speed  \n",
       "0    298.15        3.10  \n",
       "1    277.59        0.45  \n",
       "2    276.19        1.49  \n",
       "3    263.15        3.10  \n",
       "4    300.31        2.68  "
      ]
     },
     "execution_count": 164,
     "metadata": {},
     "output_type": "execute_result"
    }
   ],
   "source": [
    "# Define the path to get the excel data\n",
    "filepath = os.path.join(\"..\", \"output_data\", \"weather_data.csv\")\n",
    "map_weather = pd.read_csv(filepath) \n",
    "map_weather.head()"
   ]
  },
  {
   "cell_type": "markdown",
   "metadata": {},
   "source": [
    "### Humidity Heatmap\n",
    "* Configure gmaps.\n",
    "* Use the Lat and Lng as locations and Humidity as the weight.\n",
    "* Add Heatmap layer to map."
   ]
  },
  {
   "cell_type": "code",
   "execution_count": 165,
   "metadata": {},
   "outputs": [
    {
     "data": {
      "application/vnd.jupyter.widget-view+json": {
       "model_id": "179c9d72b6f14329a5282d759cf678b8",
       "version_major": 2,
       "version_minor": 0
      },
      "text/plain": [
       "Figure(layout=FigureLayout(height='420px'))"
      ]
     },
     "metadata": {},
     "output_type": "display_data"
    }
   ],
   "source": [
    "# Create coordinates list\n",
    "locations = map_weather[[\"Lat\", \"Lng\"]]\n",
    "\n",
    "figure_layout = {\n",
    "    'width': '400px',\n",
    "    'height': '300px',\n",
    "    'border': '1px solid black',\n",
    "    'padding': '1px',\n",
    "    'margin': '0 auto 0 auto'\n",
    "}\n",
    "\n",
    "weight_factor = map_weather[\"Humidity\"]\n",
    "\n",
    "fig = gmaps.figure(map_type=\"HYBRID\")\n",
    "\n",
    "\n",
    "# Create heat layer\n",
    "heat_layer = gmaps.heatmap_layer(locations, weights=weight_factor, \n",
    "                                 dissipating=False, max_intensity=weight_factor.max(),\n",
    "                                 point_radius=1.3)\n",
    "# Add layer\n",
    "fig.add_layer(heat_layer)\n",
    "\n",
    "# Display figure\n",
    "fig"
   ]
  },
  {
   "cell_type": "markdown",
   "metadata": {},
   "source": [
    "### Create new DataFrame fitting weather criteria\n",
    "* Narrow down the cities to fit weather conditions.\n",
    "* Drop any rows will null values."
   ]
  },
  {
   "cell_type": "code",
   "execution_count": 166,
   "metadata": {},
   "outputs": [
    {
     "data": {
      "text/html": [
       "<div>\n",
       "<style scoped>\n",
       "    .dataframe tbody tr th:only-of-type {\n",
       "        vertical-align: middle;\n",
       "    }\n",
       "\n",
       "    .dataframe tbody tr th {\n",
       "        vertical-align: top;\n",
       "    }\n",
       "\n",
       "    .dataframe thead th {\n",
       "        text-align: right;\n",
       "    }\n",
       "</style>\n",
       "<table border=\"1\" class=\"dataframe\">\n",
       "  <thead>\n",
       "    <tr style=\"text-align: right;\">\n",
       "      <th></th>\n",
       "      <th>City</th>\n",
       "      <th>Cloudiness</th>\n",
       "      <th>Country</th>\n",
       "      <th>Date</th>\n",
       "      <th>Humidity</th>\n",
       "      <th>Lat</th>\n",
       "      <th>Lng</th>\n",
       "      <th>Max Temp</th>\n",
       "      <th>Wind Speed</th>\n",
       "      <th>Max Temp (F)</th>\n",
       "    </tr>\n",
       "  </thead>\n",
       "  <tbody>\n",
       "    <tr>\n",
       "      <th>125</th>\n",
       "      <td>Sabha</td>\n",
       "      <td>0</td>\n",
       "      <td>LY</td>\n",
       "      <td>1587266081</td>\n",
       "      <td>19</td>\n",
       "      <td>27.04</td>\n",
       "      <td>14.43</td>\n",
       "      <td>295.36</td>\n",
       "      <td>6.83</td>\n",
       "      <td>71.978</td>\n",
       "    </tr>\n",
       "    <tr>\n",
       "      <th>187</th>\n",
       "      <td>Sechura</td>\n",
       "      <td>0</td>\n",
       "      <td>PE</td>\n",
       "      <td>1587265964</td>\n",
       "      <td>76</td>\n",
       "      <td>-5.56</td>\n",
       "      <td>-80.82</td>\n",
       "      <td>296.29</td>\n",
       "      <td>5.68</td>\n",
       "      <td>73.652</td>\n",
       "    </tr>\n",
       "    <tr>\n",
       "      <th>436</th>\n",
       "      <td>Riohacha</td>\n",
       "      <td>0</td>\n",
       "      <td>CO</td>\n",
       "      <td>1587266270</td>\n",
       "      <td>73</td>\n",
       "      <td>11.54</td>\n",
       "      <td>-72.91</td>\n",
       "      <td>299.50</td>\n",
       "      <td>4.35</td>\n",
       "      <td>79.430</td>\n",
       "    </tr>\n",
       "    <tr>\n",
       "      <th>453</th>\n",
       "      <td>Samaná</td>\n",
       "      <td>0</td>\n",
       "      <td>DO</td>\n",
       "      <td>1587266273</td>\n",
       "      <td>86</td>\n",
       "      <td>19.21</td>\n",
       "      <td>-69.34</td>\n",
       "      <td>296.65</td>\n",
       "      <td>2.73</td>\n",
       "      <td>74.300</td>\n",
       "    </tr>\n",
       "    <tr>\n",
       "      <th>526</th>\n",
       "      <td>Alta Floresta</td>\n",
       "      <td>0</td>\n",
       "      <td>BR</td>\n",
       "      <td>1587266281</td>\n",
       "      <td>89</td>\n",
       "      <td>-9.88</td>\n",
       "      <td>-56.09</td>\n",
       "      <td>294.59</td>\n",
       "      <td>1.55</td>\n",
       "      <td>70.592</td>\n",
       "    </tr>\n",
       "  </tbody>\n",
       "</table>\n",
       "</div>"
      ],
      "text/plain": [
       "              City  Cloudiness Country        Date  Humidity    Lat    Lng  \\\n",
       "125          Sabha           0      LY  1587266081        19  27.04  14.43   \n",
       "187        Sechura           0      PE  1587265964        76  -5.56 -80.82   \n",
       "436       Riohacha           0      CO  1587266270        73  11.54 -72.91   \n",
       "453         Samaná           0      DO  1587266273        86  19.21 -69.34   \n",
       "526  Alta Floresta           0      BR  1587266281        89  -9.88 -56.09   \n",
       "\n",
       "     Max Temp  Wind Speed  Max Temp (F)  \n",
       "125    295.36        6.83        71.978  \n",
       "187    296.29        5.68        73.652  \n",
       "436    299.50        4.35        79.430  \n",
       "453    296.65        2.73        74.300  \n",
       "526    294.59        1.55        70.592  "
      ]
     },
     "execution_count": 166,
     "metadata": {},
     "output_type": "execute_result"
    }
   ],
   "source": [
    "# A max temperature lower than 80 degrees but higher than 70.\n",
    "# Wind speed less than 10 mph.\n",
    "# Zero cloudiness.\n",
    "# Drop any rows that don't contain all three conditions. You want to be sure the weather is ideal.\n",
    "\n",
    "# Because open weather website uses Kelvin unit for temperature, need to create fahrenheit\n",
    "map_weather[\"Max Temp (F)\"] = (map_weather[\"Max Temp\"] - 273.15) * 9/5 + 32 \n",
    "\n",
    "map_weather_rd = map_weather.loc[(map_weather[\"Max Temp (F)\"] >= 70) & (map_weather[\"Max Temp (F)\"] <= 80) & \n",
    "                                (map_weather[\"Wind Speed\"]<=10) & (map_weather[\"Cloudiness\"] == 0)]\n",
    "map_weather_rd.head()\n",
    "map_weather_rd\n"
   ]
  },
  {
   "cell_type": "markdown",
   "metadata": {},
   "source": [
    "### Hotel Map\n",
    "* Store into variable named `hotel_df`.\n",
    "* Add a \"Hotel Name\" column to the DataFrame.\n",
    "* Set parameters to search for hotels with 5000 meters.\n",
    "* Hit the Google Places API for each city's coordinates.\n",
    "* Store the first Hotel result into the DataFrame.\n",
    "* Plot markers on top of the heatmap.\n",
    "\n"
   ]
  },
  {
   "cell_type": "code",
   "execution_count": 167,
   "metadata": {},
   "outputs": [
    {
     "name": "stdout",
     "output_type": "stream",
     "text": [
      "Retrieving Results for Index 526: Sabha.\n"
     ]
    }
   ],
   "source": [
    "# get city name for each row\n",
    "hotel_city = list(map_weather_rd['City'])[0]\n",
    "\n",
    "# Build the endpoint URL\n",
    "target_url = ('https://maps.googleapis.com/maps/api/geocode/json?'\n",
    "    'address={0}&key={1}').format(hotel_city, g_key)\n",
    "\n",
    "geo_data = requests.get(target_url).json()\n",
    "city_lat = geo_data['results'][0]['geometry']['location']['lat']\n",
    "city_lng = geo_data['results'][0]['geometry']['location']['lng']\n",
    "\n",
    "params['location'] = f\"{city_lat},{city_lng}\"\n",
    "\n",
    "# add keyword to params dict\n",
    "# params['keyword'] = restr_type\n",
    "\n",
    "# assemble url and make API request\n",
    "print(f\"Retrieving Results for Index {index}: {hotel_city}.\")\n",
    "response = requests.get(base_url, params=params).json()\n",
    "\n",
    "# extract results\n",
    "results = response['results']"
   ]
  },
  {
   "cell_type": "code",
   "execution_count": 168,
   "metadata": {},
   "outputs": [
    {
     "name": "stdout",
     "output_type": "stream",
     "text": [
      "Retrieving Results for Index 125: Sabha.\n",
      "Closest Sabha hotel is مركز الفؤاد للقلب والشرايين.\n",
      "------------\n",
      "Retrieving Results for Index 187: Sechura.\n",
      "Closest Sechura hotel is Restaurant El Club.\n",
      "------------\n",
      "Retrieving Results for Index 436: Riohacha.\n",
      "Closest Riohacha hotel is FEPASDE Productos & Servicios S.A..\n",
      "------------\n",
      "Retrieving Results for Index 453: Samaná.\n",
      "Closest Samaná hotel is Kelly Copy.\n",
      "------------\n",
      "Retrieving Results for Index 526: Alta Floresta.\n",
      "Closest Alta Floresta hotel is Stanichesch's House.\n",
      "------------\n"
     ]
    }
   ],
   "source": [
    "hotel_df = pd.DataFrame(map_weather_rd[['City','Lat','Lng']])\n",
    "hotel_df['Hotel Name'] = \"\"\n",
    "hotel_df['City Lat'] = \"\"\n",
    "hotel_df['City Lng'] = \"\"\n",
    "\n",
    "# use iterrows to iterate through pandas dataframe\n",
    "for index, row in hotel_df.iterrows():\n",
    "\n",
    "    # get city name for each row\n",
    "    hotel_city = row['City']\n",
    "\n",
    "    # Build the endpoint URL\n",
    "    target_url = ('https://maps.googleapis.com/maps/api/geocode/json?'\n",
    "        'address={0}&key={1}').format(hotel_city, g_key)\n",
    "\n",
    "    geo_data = requests.get(target_url).json()\n",
    "    city_lat = geo_data['results'][0]['geometry']['location']['lat']\n",
    "    city_lng = geo_data['results'][0]['geometry']['location']['lng']\n",
    "    \n",
    "    params['location'] = f\"{city_lat},{city_lng}\"\n",
    "    \n",
    "    # add keyword to params dict\n",
    "    # params['keyword'] = restr_type\n",
    "\n",
    "    # assemble url and make API request\n",
    "    print(f\"Retrieving Results for Index {index}: {hotel_city}.\")\n",
    "    response = requests.get(base_url, params=params).json()\n",
    "    \n",
    "    # extract results\n",
    "    results = response['results']\n",
    "    \n",
    "    try:\n",
    "        print(f\"Closest {hotel_city} hotel is {results[0]['name']}.\")\n",
    "        \n",
    "        hotel_df.loc[index, 'Hotel Name'] = hotel_city\n",
    "        hotel_df.loc[index, 'City Lat'] = city_lat\n",
    "        hotel_df.loc[index, 'City Lng'] = city_lng\n",
    "\n",
    "    except (KeyError, IndexError):\n",
    "        print(\"Missing field/result... skipping.\")\n",
    "        \n",
    "    print(\"------------\")"
   ]
  },
  {
   "cell_type": "code",
   "execution_count": 169,
   "metadata": {},
   "outputs": [
    {
     "data": {
      "text/html": [
       "<div>\n",
       "<style scoped>\n",
       "    .dataframe tbody tr th:only-of-type {\n",
       "        vertical-align: middle;\n",
       "    }\n",
       "\n",
       "    .dataframe tbody tr th {\n",
       "        vertical-align: top;\n",
       "    }\n",
       "\n",
       "    .dataframe thead th {\n",
       "        text-align: right;\n",
       "    }\n",
       "</style>\n",
       "<table border=\"1\" class=\"dataframe\">\n",
       "  <thead>\n",
       "    <tr style=\"text-align: right;\">\n",
       "      <th></th>\n",
       "      <th>City</th>\n",
       "      <th>Lat</th>\n",
       "      <th>Lng</th>\n",
       "      <th>Hotel Name</th>\n",
       "      <th>City Lat</th>\n",
       "      <th>City Lng</th>\n",
       "    </tr>\n",
       "  </thead>\n",
       "  <tbody>\n",
       "    <tr>\n",
       "      <th>125</th>\n",
       "      <td>Sabha</td>\n",
       "      <td>27.04</td>\n",
       "      <td>14.43</td>\n",
       "      <td>Sabha</td>\n",
       "      <td>27.0365</td>\n",
       "      <td>14.429</td>\n",
       "    </tr>\n",
       "    <tr>\n",
       "      <th>187</th>\n",
       "      <td>Sechura</td>\n",
       "      <td>-5.56</td>\n",
       "      <td>-80.82</td>\n",
       "      <td>Sechura</td>\n",
       "      <td>-5.56224</td>\n",
       "      <td>-80.8188</td>\n",
       "    </tr>\n",
       "    <tr>\n",
       "      <th>436</th>\n",
       "      <td>Riohacha</td>\n",
       "      <td>11.54</td>\n",
       "      <td>-72.91</td>\n",
       "      <td>Riohacha</td>\n",
       "      <td>11.5384</td>\n",
       "      <td>-72.9168</td>\n",
       "    </tr>\n",
       "    <tr>\n",
       "      <th>453</th>\n",
       "      <td>Samaná</td>\n",
       "      <td>19.21</td>\n",
       "      <td>-69.34</td>\n",
       "      <td>Samaná</td>\n",
       "      <td>19.2058</td>\n",
       "      <td>-69.3363</td>\n",
       "    </tr>\n",
       "    <tr>\n",
       "      <th>526</th>\n",
       "      <td>Alta Floresta</td>\n",
       "      <td>-9.88</td>\n",
       "      <td>-56.09</td>\n",
       "      <td>Alta Floresta</td>\n",
       "      <td>-9.86722</td>\n",
       "      <td>-56.087</td>\n",
       "    </tr>\n",
       "  </tbody>\n",
       "</table>\n",
       "</div>"
      ],
      "text/plain": [
       "              City    Lat    Lng     Hotel Name City Lat City Lng\n",
       "125          Sabha  27.04  14.43          Sabha  27.0365   14.429\n",
       "187        Sechura  -5.56 -80.82        Sechura -5.56224 -80.8188\n",
       "436       Riohacha  11.54 -72.91       Riohacha  11.5384 -72.9168\n",
       "453         Samaná  19.21 -69.34         Samaná  19.2058 -69.3363\n",
       "526  Alta Floresta  -9.88 -56.09  Alta Floresta -9.86722  -56.087"
      ]
     },
     "execution_count": 169,
     "metadata": {},
     "output_type": "execute_result"
    }
   ],
   "source": [
    "hotel_df.head()"
   ]
  },
  {
   "cell_type": "code",
   "execution_count": 170,
   "metadata": {
    "scrolled": true
   },
   "outputs": [
    {
     "data": {
      "application/vnd.jupyter.widget-view+json": {
       "model_id": "179c9d72b6f14329a5282d759cf678b8",
       "version_major": 2,
       "version_minor": 0
      },
      "text/plain": [
       "Figure(layout=FigureLayout(height='420px'))"
      ]
     },
     "metadata": {},
     "output_type": "display_data"
    }
   ],
   "source": [
    "# Create heat layer\n",
    "\n",
    "locations2 = hotel_df[[\"City Lat\", \"City Lng\"]]\n",
    "cities = hotel_df[\"City\"]\n",
    "\n",
    "markers = gmaps.marker_layer(locations2, \n",
    "                                info_box_content=[f\"Next vocation hotel candidate: {city}\" for city in cities])\n",
    "\n",
    "\n",
    "fig.add_layer(markers)\n",
    "fig\n"
   ]
  },
  {
   "cell_type": "code",
   "execution_count": null,
   "metadata": {},
   "outputs": [],
   "source": [
    "# NOTE: Do not change any of the code in this cell\n",
    "\n",
    "# Using the template add the hotel marks to the heatmap\n",
    "# info_box_template = \"\"\"\n",
    "# <dl>\n",
    "# <dt>Name</dt><dd>{Hotel Name}</dd>\n",
    "# <dt>City</dt><dd>{City}</dd>\n",
    "# <dt>Country</dt><dd>{Country}</dd>\n",
    "# </dl>\n",
    "\"\"\"\n",
    "# Store the DataFrame Row\n",
    "# NOTE: be sure to update with your DataFrame name\n",
    "hotel_info = [info_box_template.format(**row) for index, row in narrowed_city_df.iterrows()]\n",
    "locations = hotel_df[[\"Lat\", \"Lng\"]]"
   ]
  },
  {
   "cell_type": "code",
   "execution_count": null,
   "metadata": {},
   "outputs": [],
   "source": [
    "# Add marker layer ontop of heat map\n",
    "\n",
    "\n",
    "# Display Map"
   ]
  }
 ],
 "metadata": {
  "kernelspec": {
   "display_name": "Python 3",
   "language": "python",
   "name": "python3"
  },
  "language_info": {
   "codemirror_mode": {
    "name": "ipython",
    "version": 3
   },
   "file_extension": ".py",
   "mimetype": "text/x-python",
   "name": "python",
   "nbconvert_exporter": "python",
   "pygments_lexer": "ipython3",
   "version": "3.6.10"
  },
  "latex_envs": {
   "LaTeX_envs_menu_present": true,
   "autoclose": false,
   "autocomplete": true,
   "bibliofile": "biblio.bib",
   "cite_by": "apalike",
   "current_citInitial": 1,
   "eqLabelWithNumbers": true,
   "eqNumInitial": 1,
   "hotkeys": {
    "equation": "Ctrl-E",
    "itemize": "Ctrl-I"
   },
   "labels_anchors": false,
   "latex_user_defs": false,
   "report_style_numbering": false,
   "user_envs_cfg": false
  }
 },
 "nbformat": 4,
 "nbformat_minor": 2
}
